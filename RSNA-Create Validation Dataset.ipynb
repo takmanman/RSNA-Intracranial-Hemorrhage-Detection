{
 "cells": [
  {
   "cell_type": "markdown",
   "metadata": {},
   "source": [
    "# RSNA - Create Validation Dataset\n",
    "\n",
    "This is a script to split the dataset into a training dataset and a validation dataset. As this is a multi-labeled dataset, it is not trivial to maintain the same label distribution (e.g. same frequency for the combination of 'epidural' and 'intraventricular'). Nevertheless, I tried to make the label frequency as similar as I can between the training and validation dataset."
   ]
  },
  {
   "cell_type": "code",
   "execution_count": 1,
   "metadata": {},
   "outputs": [],
   "source": [
    "import numpy as np\n",
    "import pandas as pd"
   ]
  },
  {
   "cell_type": "code",
   "execution_count": 2,
   "metadata": {},
   "outputs": [],
   "source": [
    "data_table = pd.read_pickle('rsna_data_table.pkl') "
   ]
  },
  {
   "cell_type": "markdown",
   "metadata": {},
   "source": [
    "## Create a \"balanced\" validation set manually"
   ]
  },
  {
   "cell_type": "code",
   "execution_count": 3,
   "metadata": {},
   "outputs": [
    {
     "data": {
      "text/plain": [
       "Index(['epidural', 'intraparenchymal', 'intraventricular', 'subarachnoid',\n",
       "       'subdural', 'any', 'count'],\n",
       "      dtype='object')"
      ]
     },
     "execution_count": 3,
     "metadata": {},
     "output_type": "execute_result"
    }
   ],
   "source": [
    "data_table.columns"
   ]
  },
  {
   "cell_type": "code",
   "execution_count": 4,
   "metadata": {},
   "outputs": [
    {
     "name": "stdout",
     "output_type": "stream",
     "text": [
      "2761\n",
      "2299\n",
      "462\n"
     ]
    }
   ],
   "source": [
    "epidural_index = data_table[data_table[\"epidural\"] == 1].index\n",
    "print(len(epidural_index))\n",
    "\n",
    "msk = np.random.rand(len(epidural_index)) < 0.84\n",
    "epidural_train = epidural_index[msk]\n",
    "epidural_valid = epidural_index[~msk]\n",
    "print(len(epidural_train))\n",
    "print(len(epidural_valid))"
   ]
  },
  {
   "cell_type": "code",
   "execution_count": 5,
   "metadata": {},
   "outputs": [
    {
     "name": "stdout",
     "output_type": "stream",
     "text": [
      "32564\n",
      "27426\n",
      "5138\n"
     ]
    }
   ],
   "source": [
    "intrap_index = data_table[data_table[\"intraparenchymal\"] == 1].index\n",
    "print(len(intrap_index))\n",
    "\n",
    "msk = np.random.rand(len(intrap_index)) < 0.84\n",
    "intrap_train = intrap_index[msk]\n",
    "intrap_valid = intrap_index[~msk]\n",
    "print(len(intrap_train))\n",
    "print(len(intrap_valid))"
   ]
  },
  {
   "cell_type": "code",
   "execution_count": 6,
   "metadata": {},
   "outputs": [
    {
     "name": "stdout",
     "output_type": "stream",
     "text": [
      "23766\n",
      "19963\n",
      "3803\n"
     ]
    }
   ],
   "source": [
    "intrav_index = data_table[data_table[\"intraventricular\"] == 1].index\n",
    "print(len(intrav_index))\n",
    "\n",
    "msk = np.random.rand(len(intrav_index)) < 0.84\n",
    "intrav_train = intrav_index[msk]\n",
    "intrav_valid = intrav_index[~msk]\n",
    "print(len(intrav_train))\n",
    "print(len(intrav_valid))"
   ]
  },
  {
   "cell_type": "code",
   "execution_count": 7,
   "metadata": {},
   "outputs": [
    {
     "name": "stdout",
     "output_type": "stream",
     "text": [
      "32122\n",
      "26919\n",
      "5203\n"
     ]
    }
   ],
   "source": [
    "suba_index = data_table[data_table[\"subarachnoid\"] == 1].index\n",
    "print(len(suba_index))\n",
    "\n",
    "msk = np.random.rand(len(suba_index)) < 0.84\n",
    "suba_train = suba_index[msk]\n",
    "suba_valid = suba_index[~msk]\n",
    "print(len(suba_train))\n",
    "print(len(suba_valid))"
   ]
  },
  {
   "cell_type": "code",
   "execution_count": 8,
   "metadata": {},
   "outputs": [
    {
     "name": "stdout",
     "output_type": "stream",
     "text": [
      "42496\n",
      "35568\n",
      "6928\n"
     ]
    }
   ],
   "source": [
    "subd_index = data_table[data_table[\"subdural\"] == 1].index\n",
    "print(len(subd_index))\n",
    "\n",
    "msk = np.random.rand(len(subd_index)) < 0.84\n",
    "subd_train = subd_index[msk]\n",
    "subd_valid = subd_index[~msk]\n",
    "print(len(subd_train))\n",
    "print(len(subd_valid))"
   ]
  },
  {
   "cell_type": "code",
   "execution_count": 9,
   "metadata": {},
   "outputs": [
    {
     "name": "stdout",
     "output_type": "stream",
     "text": [
      "97103\n"
     ]
    }
   ],
   "source": [
    "any_index = data_table[data_table[\"any\"] == 1].index\n",
    "print(len(any_index))"
   ]
  },
  {
   "cell_type": "code",
   "execution_count": 10,
   "metadata": {},
   "outputs": [
    {
     "name": "stdout",
     "output_type": "stream",
     "text": [
      "112175\n",
      "85451\n"
     ]
    }
   ],
   "source": [
    "train_index = epidural_train.append(intrap_train)\n",
    "train_index = train_index.append(intrav_train)\n",
    "train_index = train_index.append(suba_train)\n",
    "train_index = train_index.append(subd_train)\n",
    "print(len(train_index))\n",
    "train_index = train_index.drop_duplicates()\n",
    "print(len(train_index))"
   ]
  },
  {
   "cell_type": "code",
   "execution_count": 11,
   "metadata": {},
   "outputs": [
    {
     "name": "stdout",
     "output_type": "stream",
     "text": [
      "21534\n",
      "20428\n"
     ]
    }
   ],
   "source": [
    "valid_index = epidural_valid.append(intrap_valid)\n",
    "valid_index = valid_index.append(intrav_valid)\n",
    "valid_index = valid_index.append(suba_valid)\n",
    "valid_index = valid_index.append(subd_valid)\n",
    "print(len(valid_index))\n",
    "valid_index = valid_index.drop_duplicates()\n",
    "print(len(valid_index))"
   ]
  },
  {
   "cell_type": "code",
   "execution_count": 12,
   "metadata": {},
   "outputs": [
    {
     "name": "stdout",
     "output_type": "stream",
     "text": [
      "8776\n",
      "0\n"
     ]
    }
   ],
   "source": [
    "overlapped_index = train_index.intersection(valid_index)\n",
    "print(len(overlapped_index))\n",
    "\n",
    "msk = np.random.rand(len(overlapped_index)) < 0.84\n",
    "overlapped_train = overlapped_index[msk]\n",
    "overlapped_valid = overlapped_index[~msk]\n",
    "\n",
    "train_index = train_index.drop(overlapped_valid)\n",
    "valid_index = valid_index.drop(overlapped_train)\n",
    "overlapped_index = train_index.intersection(valid_index)\n",
    "print(len(overlapped_index))"
   ]
  },
  {
   "cell_type": "code",
   "execution_count": 13,
   "metadata": {},
   "outputs": [
    {
     "name": "stdout",
     "output_type": "stream",
     "text": [
      "568772\n",
      "105486\n",
      "0\n"
     ]
    }
   ],
   "source": [
    "table_index = data_table.index\n",
    "table_index = table_index.drop(train_index)\n",
    "table_index = table_index.drop(valid_index)\n",
    "\n",
    "msk = np.random.rand(len(table_index)) < 0.84\n",
    "table_train = table_index[msk]\n",
    "table_valid = table_index[~msk]\n",
    "\n",
    "train_index = train_index.append(table_train)\n",
    "valid_index = valid_index.append(table_valid)\n",
    "\n",
    "print(len(train_index))\n",
    "print(len(valid_index))\n",
    "print(len(train_index.intersection(valid_index)))"
   ]
  },
  {
   "cell_type": "code",
   "execution_count": 14,
   "metadata": {},
   "outputs": [],
   "source": [
    "train_table = data_table.loc[train_index]\n",
    "valid_table = data_table.loc[valid_index]"
   ]
  },
  {
   "cell_type": "code",
   "execution_count": 15,
   "metadata": {},
   "outputs": [
    {
     "name": "stdout",
     "output_type": "stream",
     "text": [
      "0.004253022300675842\n",
      "0.0511962614193385\n",
      "0.037505362429936774\n",
      "0.05023454037821834\n",
      "0.0648133171112502\n",
      "0.14788175226628597\n",
      "568772\n"
     ]
    }
   ],
   "source": [
    "print(len(train_table[train_table[\"epidural\"]==1])/len(train_table))\n",
    "print(len(train_table[train_table[\"intraparenchymal\"]==1])/len(train_table))\n",
    "print(len(train_table[train_table[\"intraventricular\"]==1])/len(train_table))\n",
    "print(len(train_table[train_table[\"subarachnoid\"]==1])/len(train_table))\n",
    "print(len(train_table[train_table[\"subdural\"]==1])/len(train_table))\n",
    "print(len(train_table[train_table[\"any\"]==1])/len(train_table))\n",
    "print(len(train_table))"
   ]
  },
  {
   "cell_type": "code",
   "execution_count": 16,
   "metadata": {},
   "outputs": [
    {
     "name": "stdout",
     "output_type": "stream",
     "text": [
      "0.003242136397247028\n",
      "0.03265836224712284\n",
      "0.023074152020173294\n",
      "0.033653755000663595\n",
      "0.05339097131372884\n",
      "0.12316326337144265\n",
      "105486\n"
     ]
    }
   ],
   "source": [
    "print(len(valid_table[valid_table[\"epidural\"]==1])/len(valid_table))\n",
    "print(len(valid_table[valid_table[\"intraparenchymal\"]==1])/len(valid_table))\n",
    "print(len(valid_table[valid_table[\"intraventricular\"]==1])/len(valid_table))\n",
    "print(len(valid_table[valid_table[\"subarachnoid\"]==1])/len(valid_table))\n",
    "print(len(valid_table[valid_table[\"subdural\"]==1])/len(valid_table))\n",
    "print(len(valid_table[valid_table[\"any\"]==1])/len(valid_table))\n",
    "print(len(valid_table))"
   ]
  },
  {
   "cell_type": "code",
   "execution_count": 17,
   "metadata": {},
   "outputs": [
    {
     "name": "stdout",
     "output_type": "stream",
     "text": [
      "0.004854317723094667\n",
      "0.05725316998727082\n",
      "0.04178475733685906\n",
      "0.05647605718987573\n",
      "0.07471535166991343\n",
      "0.17072394562320226\n",
      "674258\n"
     ]
    }
   ],
   "source": [
    "print(len(data_table[data_table[\"epidural\"]==1])/len(train_table))\n",
    "print(len(data_table[data_table[\"intraparenchymal\"]==1])/len(train_table))\n",
    "print(len(data_table[data_table[\"intraventricular\"]==1])/len(train_table))\n",
    "print(len(data_table[data_table[\"subarachnoid\"]==1])/len(train_table))\n",
    "print(len(data_table[data_table[\"subdural\"]==1])/len(train_table))\n",
    "print(len(data_table[data_table[\"any\"]==1])/len(train_table))\n",
    "print(len(data_table))"
   ]
  },
  {
   "cell_type": "code",
   "execution_count": 18,
   "metadata": {},
   "outputs": [],
   "source": [
    "train_table.to_pickle('rsna_train_table.pkl')\n",
    "valid_table.to_pickle('rsna_valid_table.pkl')"
   ]
  }
 ],
 "metadata": {
  "kernelspec": {
   "display_name": "Python 3",
   "language": "python",
   "name": "python3"
  },
  "language_info": {
   "codemirror_mode": {
    "name": "ipython",
    "version": 3
   },
   "file_extension": ".py",
   "mimetype": "text/x-python",
   "name": "python",
   "nbconvert_exporter": "python",
   "pygments_lexer": "ipython3",
   "version": "3.6.8"
  }
 },
 "nbformat": 4,
 "nbformat_minor": 2
}
