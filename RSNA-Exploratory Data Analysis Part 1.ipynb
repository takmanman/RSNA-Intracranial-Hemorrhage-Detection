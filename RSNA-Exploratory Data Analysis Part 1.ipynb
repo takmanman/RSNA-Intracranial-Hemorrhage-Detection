{
 "cells": [
  {
   "cell_type": "markdown",
   "metadata": {},
   "source": [
    "# RSNA - Exploratory Data Analysis Part 1\n",
    "\n",
    "\n",
    "In this notebook, we are going to take a look at the csv file. Usually, the csv file accompanying a training dataset would provide us with the <b>ground truth</b> of each sample (in this case, the <b>diagonsis of each CT scan image</b> assessed by a radiologist). Sometimes, it may also have other useful information, for example, the age and gender of each patient. \n",
    "\n",
    "We will rearrange the information into a more easy-to-read format, inspect the data distribution and look for any oddity."
   ]
  },
  {
   "cell_type": "code",
   "execution_count": 1,
   "metadata": {},
   "outputs": [],
   "source": [
    "import pandas as pd\n",
    "import matplotlib.pyplot as plt\n",
    "import numpy as np"
   ]
  },
  {
   "cell_type": "code",
   "execution_count": 2,
   "metadata": {},
   "outputs": [],
   "source": [
    "data_file=\"stage_1_train.csv\""
   ]
  },
  {
   "cell_type": "code",
   "execution_count": 3,
   "metadata": {},
   "outputs": [],
   "source": [
    "raw_data_table = pd.read_csv(data_file)"
   ]
  },
  {
   "cell_type": "markdown",
   "metadata": {},
   "source": [
    "# 1. A first look at the data"
   ]
  },
  {
   "cell_type": "code",
   "execution_count": 4,
   "metadata": {},
   "outputs": [
    {
     "data": {
      "text/html": [
       "<div>\n",
       "<style scoped>\n",
       "    .dataframe tbody tr th:only-of-type {\n",
       "        vertical-align: middle;\n",
       "    }\n",
       "\n",
       "    .dataframe tbody tr th {\n",
       "        vertical-align: top;\n",
       "    }\n",
       "\n",
       "    .dataframe thead th {\n",
       "        text-align: right;\n",
       "    }\n",
       "</style>\n",
       "<table border=\"1\" class=\"dataframe\">\n",
       "  <thead>\n",
       "    <tr style=\"text-align: right;\">\n",
       "      <th></th>\n",
       "      <th>ID</th>\n",
       "      <th>Label</th>\n",
       "    </tr>\n",
       "  </thead>\n",
       "  <tbody>\n",
       "    <tr>\n",
       "      <td>0</td>\n",
       "      <td>ID_63eb1e259_epidural</td>\n",
       "      <td>0</td>\n",
       "    </tr>\n",
       "    <tr>\n",
       "      <td>1</td>\n",
       "      <td>ID_63eb1e259_intraparenchymal</td>\n",
       "      <td>0</td>\n",
       "    </tr>\n",
       "    <tr>\n",
       "      <td>2</td>\n",
       "      <td>ID_63eb1e259_intraventricular</td>\n",
       "      <td>0</td>\n",
       "    </tr>\n",
       "    <tr>\n",
       "      <td>3</td>\n",
       "      <td>ID_63eb1e259_subarachnoid</td>\n",
       "      <td>0</td>\n",
       "    </tr>\n",
       "    <tr>\n",
       "      <td>4</td>\n",
       "      <td>ID_63eb1e259_subdural</td>\n",
       "      <td>0</td>\n",
       "    </tr>\n",
       "    <tr>\n",
       "      <td>5</td>\n",
       "      <td>ID_63eb1e259_any</td>\n",
       "      <td>0</td>\n",
       "    </tr>\n",
       "    <tr>\n",
       "      <td>6</td>\n",
       "      <td>ID_2669954a7_epidural</td>\n",
       "      <td>0</td>\n",
       "    </tr>\n",
       "    <tr>\n",
       "      <td>7</td>\n",
       "      <td>ID_2669954a7_intraparenchymal</td>\n",
       "      <td>0</td>\n",
       "    </tr>\n",
       "    <tr>\n",
       "      <td>8</td>\n",
       "      <td>ID_2669954a7_intraventricular</td>\n",
       "      <td>0</td>\n",
       "    </tr>\n",
       "    <tr>\n",
       "      <td>9</td>\n",
       "      <td>ID_2669954a7_subarachnoid</td>\n",
       "      <td>0</td>\n",
       "    </tr>\n",
       "    <tr>\n",
       "      <td>10</td>\n",
       "      <td>ID_2669954a7_subdural</td>\n",
       "      <td>0</td>\n",
       "    </tr>\n",
       "    <tr>\n",
       "      <td>11</td>\n",
       "      <td>ID_2669954a7_any</td>\n",
       "      <td>0</td>\n",
       "    </tr>\n",
       "    <tr>\n",
       "      <td>12</td>\n",
       "      <td>ID_52c9913b1_epidural</td>\n",
       "      <td>0</td>\n",
       "    </tr>\n",
       "    <tr>\n",
       "      <td>13</td>\n",
       "      <td>ID_52c9913b1_intraparenchymal</td>\n",
       "      <td>0</td>\n",
       "    </tr>\n",
       "    <tr>\n",
       "      <td>14</td>\n",
       "      <td>ID_52c9913b1_intraventricular</td>\n",
       "      <td>0</td>\n",
       "    </tr>\n",
       "    <tr>\n",
       "      <td>15</td>\n",
       "      <td>ID_52c9913b1_subarachnoid</td>\n",
       "      <td>0</td>\n",
       "    </tr>\n",
       "    <tr>\n",
       "      <td>16</td>\n",
       "      <td>ID_52c9913b1_subdural</td>\n",
       "      <td>0</td>\n",
       "    </tr>\n",
       "    <tr>\n",
       "      <td>17</td>\n",
       "      <td>ID_52c9913b1_any</td>\n",
       "      <td>0</td>\n",
       "    </tr>\n",
       "    <tr>\n",
       "      <td>18</td>\n",
       "      <td>ID_4e6ff6126_epidural</td>\n",
       "      <td>0</td>\n",
       "    </tr>\n",
       "    <tr>\n",
       "      <td>19</td>\n",
       "      <td>ID_4e6ff6126_intraparenchymal</td>\n",
       "      <td>0</td>\n",
       "    </tr>\n",
       "  </tbody>\n",
       "</table>\n",
       "</div>"
      ],
      "text/plain": [
       "                               ID  Label\n",
       "0           ID_63eb1e259_epidural      0\n",
       "1   ID_63eb1e259_intraparenchymal      0\n",
       "2   ID_63eb1e259_intraventricular      0\n",
       "3       ID_63eb1e259_subarachnoid      0\n",
       "4           ID_63eb1e259_subdural      0\n",
       "5                ID_63eb1e259_any      0\n",
       "6           ID_2669954a7_epidural      0\n",
       "7   ID_2669954a7_intraparenchymal      0\n",
       "8   ID_2669954a7_intraventricular      0\n",
       "9       ID_2669954a7_subarachnoid      0\n",
       "10          ID_2669954a7_subdural      0\n",
       "11               ID_2669954a7_any      0\n",
       "12          ID_52c9913b1_epidural      0\n",
       "13  ID_52c9913b1_intraparenchymal      0\n",
       "14  ID_52c9913b1_intraventricular      0\n",
       "15      ID_52c9913b1_subarachnoid      0\n",
       "16          ID_52c9913b1_subdural      0\n",
       "17               ID_52c9913b1_any      0\n",
       "18          ID_4e6ff6126_epidural      0\n",
       "19  ID_4e6ff6126_intraparenchymal      0"
      ]
     },
     "execution_count": 4,
     "metadata": {},
     "output_type": "execute_result"
    }
   ],
   "source": [
    "raw_data_table[0:20]"
   ]
  },
  {
   "cell_type": "markdown",
   "metadata": {},
   "source": [
    "#### Remark: each row indicates if a patient (identified by id) has a particular type of hemorrhage (if so, Label = 1, otherwise, Label = 0)"
   ]
  },
  {
   "cell_type": "code",
   "execution_count": 5,
   "metadata": {},
   "outputs": [
    {
     "data": {
      "text/plain": [
       "24"
      ]
     },
     "execution_count": 5,
     "metadata": {},
     "output_type": "execute_result"
    }
   ],
   "source": [
    "#let's check if there are rows with duplicated ID\n",
    "duplicated_rows = raw_data_table[raw_data_table.duplicated(subset = 'ID')]\n",
    "num_duplicated = len(duplicated_rows)\n",
    "len(duplicated_rows)"
   ]
  },
  {
   "cell_type": "code",
   "execution_count": 6,
   "metadata": {},
   "outputs": [
    {
     "name": "stdout",
     "output_type": "stream",
     "text": [
      "                           ID  Label\n",
      "312468  ID_a64d5deed_epidural      0\n",
      "312474  ID_a64d5deed_epidural      0\n",
      "                                   ID  Label\n",
      "312469  ID_a64d5deed_intraparenchymal      0\n",
      "312475  ID_a64d5deed_intraparenchymal      0\n",
      "                                   ID  Label\n",
      "312470  ID_a64d5deed_intraventricular      0\n",
      "312476  ID_a64d5deed_intraventricular      0\n",
      "                               ID  Label\n",
      "312471  ID_a64d5deed_subarachnoid      0\n",
      "312477  ID_a64d5deed_subarachnoid      0\n",
      "                           ID  Label\n",
      "312472  ID_a64d5deed_subdural      0\n",
      "312478  ID_a64d5deed_subdural      0\n",
      "                      ID  Label\n",
      "312473  ID_a64d5deed_any      0\n",
      "312479  ID_a64d5deed_any      0\n",
      "                            ID  Label\n",
      "1598538  ID_921490062_epidural      0\n",
      "1598544  ID_921490062_epidural      0\n",
      "                                    ID  Label\n",
      "1598539  ID_921490062_intraparenchymal      0\n",
      "1598545  ID_921490062_intraparenchymal      0\n",
      "                                    ID  Label\n",
      "1598540  ID_921490062_intraventricular      0\n",
      "1598546  ID_921490062_intraventricular      0\n",
      "                                ID  Label\n",
      "1598541  ID_921490062_subarachnoid      0\n",
      "1598547  ID_921490062_subarachnoid      0\n",
      "                            ID  Label\n",
      "1598542  ID_921490062_subdural      0\n",
      "1598548  ID_921490062_subdural      0\n",
      "                       ID  Label\n",
      "1598543  ID_921490062_any      0\n",
      "1598549  ID_921490062_any      0\n",
      "                            ID  Label\n",
      "2708700  ID_489ae4179_epidural      0\n",
      "2708706  ID_489ae4179_epidural      0\n",
      "                                    ID  Label\n",
      "2708701  ID_489ae4179_intraparenchymal      0\n",
      "2708707  ID_489ae4179_intraparenchymal      0\n",
      "                                    ID  Label\n",
      "2708702  ID_489ae4179_intraventricular      0\n",
      "2708708  ID_489ae4179_intraventricular      0\n",
      "                                ID  Label\n",
      "2708703  ID_489ae4179_subarachnoid      0\n",
      "2708709  ID_489ae4179_subarachnoid      0\n",
      "                            ID  Label\n",
      "2708704  ID_489ae4179_subdural      0\n",
      "2708710  ID_489ae4179_subdural      0\n",
      "                       ID  Label\n",
      "2708705  ID_489ae4179_any      0\n",
      "2708711  ID_489ae4179_any      0\n",
      "                            ID  Label\n",
      "3032994  ID_854fba667_epidural      0\n",
      "3033000  ID_854fba667_epidural      0\n",
      "                                    ID  Label\n",
      "3032995  ID_854fba667_intraparenchymal      0\n",
      "3033001  ID_854fba667_intraparenchymal      0\n",
      "                                    ID  Label\n",
      "3032996  ID_854fba667_intraventricular      0\n",
      "3033002  ID_854fba667_intraventricular      0\n",
      "                                ID  Label\n",
      "3032997  ID_854fba667_subarachnoid      0\n",
      "3033003  ID_854fba667_subarachnoid      0\n",
      "                            ID  Label\n",
      "3032998  ID_854fba667_subdural      0\n",
      "3033004  ID_854fba667_subdural      0\n",
      "                       ID  Label\n",
      "3032999  ID_854fba667_any      0\n",
      "3033005  ID_854fba667_any      0\n"
     ]
    }
   ],
   "source": [
    "#Inspect the rows with duplicated ID and check if there is any inconsistency\n",
    "for index, row in duplicated_rows.iterrows():\n",
    "    ID = row['ID']\n",
    "    print(raw_data_table[raw_data_table['ID'] == ID])"
   ]
  },
  {
   "cell_type": "markdown",
   "metadata": {},
   "source": [
    "#### Observation: some rows have duplicated IDs, but their labels are the same. We can therefore ignore them as they will be eliminated after rearranging the table in the next step."
   ]
  },
  {
   "cell_type": "code",
   "execution_count": 7,
   "metadata": {},
   "outputs": [
    {
     "data": {
      "text/plain": [
       "0    3814760\n",
       "1     230812\n",
       "Name: Label, dtype: int64"
      ]
     },
     "execution_count": 7,
     "metadata": {},
     "output_type": "execute_result"
    }
   ],
   "source": [
    "raw_data_table['Label'].value_counts()"
   ]
  },
  {
   "cell_type": "markdown",
   "metadata": {},
   "source": [
    "#### Remark: Label can only be 0 or 1"
   ]
  },
  {
   "cell_type": "markdown",
   "metadata": {},
   "source": [
    "# 2. Rearrange the table to a simpler format"
   ]
  },
  {
   "cell_type": "code",
   "execution_count": 8,
   "metadata": {},
   "outputs": [],
   "source": [
    "columns = ['ID', 'Label', 'case id', 'epidural', 'intraparenchymal', 'intraventricular', 'subarachnoid', 'subdural', 'any', 'error']"
   ]
  },
  {
   "cell_type": "code",
   "execution_count": 9,
   "metadata": {},
   "outputs": [],
   "source": [
    "data_table = pd.DataFrame(columns = columns)\n",
    "\n",
    "data_table['ID'] = raw_data_table['ID']\n",
    "data_table['Label'] = raw_data_table['Label']\n",
    "data_table = data_table.fillna(0)"
   ]
  },
  {
   "cell_type": "code",
   "execution_count": 10,
   "metadata": {},
   "outputs": [],
   "source": [
    "def group_by_case_id(df):\n",
    "    id_parts = df['ID'].split('_')\n",
    "    \n",
    "    df['case id'] = id_parts[1]\n",
    "    \n",
    "    if id_parts[2] == 'epidural':\n",
    "        df['epidural'] = df['Label']   \n",
    "    elif id_parts[2] == 'intraparenchymal':\n",
    "        df['intraparenchymal'] = df['Label']\n",
    "    elif id_parts[2] == 'intraventricular':\n",
    "        df['intraventricular'] = df['Label']\n",
    "    elif id_parts[2] == 'subarachnoid' :\n",
    "        df['subarachnoid'] = df['Label']\n",
    "    elif id_parts[2] == 'subdural':\n",
    "        df['subdural'] = df['Label']    \n",
    "    elif id_parts[2] == 'any':\n",
    "        df['any'] = df['Label']\n",
    "    else:#something weird happened, add to error count for that case\n",
    "        df['error'] = df['error']+1\n",
    "    return df"
   ]
  },
  {
   "cell_type": "code",
   "execution_count": 11,
   "metadata": {},
   "outputs": [],
   "source": [
    "data_table = data_table.apply(lambda x: group_by_case_id(x), axis=1)"
   ]
  },
  {
   "cell_type": "code",
   "execution_count": 12,
   "metadata": {},
   "outputs": [],
   "source": [
    "data_table = data_table.drop(['ID', 'Label'],axis = 1)\n",
    "data_table = data_table.groupby('case id').sum()"
   ]
  },
  {
   "cell_type": "markdown",
   "metadata": {},
   "source": [
    "# 3. Ensure correctness of the new table"
   ]
  },
  {
   "cell_type": "code",
   "execution_count": 13,
   "metadata": {},
   "outputs": [
    {
     "data": {
      "text/html": [
       "<div>\n",
       "<style scoped>\n",
       "    .dataframe tbody tr th:only-of-type {\n",
       "        vertical-align: middle;\n",
       "    }\n",
       "\n",
       "    .dataframe tbody tr th {\n",
       "        vertical-align: top;\n",
       "    }\n",
       "\n",
       "    .dataframe thead th {\n",
       "        text-align: right;\n",
       "    }\n",
       "</style>\n",
       "<table border=\"1\" class=\"dataframe\">\n",
       "  <thead>\n",
       "    <tr style=\"text-align: right;\">\n",
       "      <th></th>\n",
       "      <th>epidural</th>\n",
       "      <th>intraparenchymal</th>\n",
       "      <th>intraventricular</th>\n",
       "      <th>subarachnoid</th>\n",
       "      <th>subdural</th>\n",
       "      <th>any</th>\n",
       "      <th>error</th>\n",
       "    </tr>\n",
       "    <tr>\n",
       "      <th>case id</th>\n",
       "      <th></th>\n",
       "      <th></th>\n",
       "      <th></th>\n",
       "      <th></th>\n",
       "      <th></th>\n",
       "      <th></th>\n",
       "      <th></th>\n",
       "    </tr>\n",
       "  </thead>\n",
       "  <tbody>\n",
       "    <tr>\n",
       "      <td>000039fa0</td>\n",
       "      <td>0</td>\n",
       "      <td>0</td>\n",
       "      <td>0</td>\n",
       "      <td>0</td>\n",
       "      <td>0</td>\n",
       "      <td>0</td>\n",
       "      <td>0</td>\n",
       "    </tr>\n",
       "    <tr>\n",
       "      <td>00005679d</td>\n",
       "      <td>0</td>\n",
       "      <td>0</td>\n",
       "      <td>0</td>\n",
       "      <td>0</td>\n",
       "      <td>0</td>\n",
       "      <td>0</td>\n",
       "      <td>0</td>\n",
       "    </tr>\n",
       "    <tr>\n",
       "      <td>00008ce3c</td>\n",
       "      <td>0</td>\n",
       "      <td>0</td>\n",
       "      <td>0</td>\n",
       "      <td>0</td>\n",
       "      <td>0</td>\n",
       "      <td>0</td>\n",
       "      <td>0</td>\n",
       "    </tr>\n",
       "    <tr>\n",
       "      <td>0000950d7</td>\n",
       "      <td>0</td>\n",
       "      <td>0</td>\n",
       "      <td>0</td>\n",
       "      <td>0</td>\n",
       "      <td>0</td>\n",
       "      <td>0</td>\n",
       "      <td>0</td>\n",
       "    </tr>\n",
       "    <tr>\n",
       "      <td>0000aee4b</td>\n",
       "      <td>0</td>\n",
       "      <td>0</td>\n",
       "      <td>0</td>\n",
       "      <td>0</td>\n",
       "      <td>0</td>\n",
       "      <td>0</td>\n",
       "      <td>0</td>\n",
       "    </tr>\n",
       "  </tbody>\n",
       "</table>\n",
       "</div>"
      ],
      "text/plain": [
       "           epidural  intraparenchymal  intraventricular  subarachnoid  \\\n",
       "case id                                                                 \n",
       "000039fa0         0                 0                 0             0   \n",
       "00005679d         0                 0                 0             0   \n",
       "00008ce3c         0                 0                 0             0   \n",
       "0000950d7         0                 0                 0             0   \n",
       "0000aee4b         0                 0                 0             0   \n",
       "\n",
       "           subdural  any  error  \n",
       "case id                          \n",
       "000039fa0         0    0      0  \n",
       "00005679d         0    0      0  \n",
       "00008ce3c         0    0      0  \n",
       "0000950d7         0    0      0  \n",
       "0000aee4b         0    0      0  "
      ]
     },
     "execution_count": 13,
     "metadata": {},
     "output_type": "execute_result"
    }
   ],
   "source": [
    "data_table.head()"
   ]
  },
  {
   "cell_type": "code",
   "execution_count": 14,
   "metadata": {},
   "outputs": [
    {
     "data": {
      "text/plain": [
       "6.0"
      ]
     },
     "execution_count": 14,
     "metadata": {},
     "output_type": "execute_result"
    }
   ],
   "source": [
    "#Check if the table was converted correctly, each six rows in the original table is combined to a single row indexed by the case id\n",
    "(len(raw_data_table)-num_duplicated)/len(data_table)"
   ]
  },
  {
   "cell_type": "markdown",
   "metadata": {},
   "source": [
    "#### Observation: looks correct!"
   ]
  },
  {
   "cell_type": "markdown",
   "metadata": {},
   "source": [
    "### If the table was parsed correctly, each type of hemorrhage should have a value of 0 or 1. Let's make sure of that."
   ]
  },
  {
   "cell_type": "code",
   "execution_count": 15,
   "metadata": {},
   "outputs": [
    {
     "data": {
      "text/plain": [
       "0    671497\n",
       "1      2761\n",
       "Name: epidural, dtype: int64"
      ]
     },
     "execution_count": 15,
     "metadata": {},
     "output_type": "execute_result"
    }
   ],
   "source": [
    "data_table['epidural'].value_counts()"
   ]
  },
  {
   "cell_type": "code",
   "execution_count": 16,
   "metadata": {},
   "outputs": [
    {
     "data": {
      "text/plain": [
       "0    641694\n",
       "1     32564\n",
       "Name: intraparenchymal, dtype: int64"
      ]
     },
     "execution_count": 16,
     "metadata": {},
     "output_type": "execute_result"
    }
   ],
   "source": [
    "data_table['intraparenchymal'].value_counts()"
   ]
  },
  {
   "cell_type": "code",
   "execution_count": 17,
   "metadata": {},
   "outputs": [
    {
     "data": {
      "text/plain": [
       "0    650492\n",
       "1     23766\n",
       "Name: intraventricular, dtype: int64"
      ]
     },
     "execution_count": 17,
     "metadata": {},
     "output_type": "execute_result"
    }
   ],
   "source": [
    "data_table['intraventricular'].value_counts()"
   ]
  },
  {
   "cell_type": "code",
   "execution_count": 18,
   "metadata": {},
   "outputs": [
    {
     "data": {
      "text/plain": [
       "0    642136\n",
       "1     32122\n",
       "Name: subarachnoid, dtype: int64"
      ]
     },
     "execution_count": 18,
     "metadata": {},
     "output_type": "execute_result"
    }
   ],
   "source": [
    "data_table['subarachnoid'].value_counts()"
   ]
  },
  {
   "cell_type": "code",
   "execution_count": 19,
   "metadata": {},
   "outputs": [
    {
     "data": {
      "text/plain": [
       "0    631762\n",
       "1     42496\n",
       "Name: subdural, dtype: int64"
      ]
     },
     "execution_count": 19,
     "metadata": {},
     "output_type": "execute_result"
    }
   ],
   "source": [
    "data_table['subdural'].value_counts()"
   ]
  },
  {
   "cell_type": "code",
   "execution_count": 20,
   "metadata": {},
   "outputs": [
    {
     "data": {
      "text/plain": [
       "0    577155\n",
       "1     97103\n",
       "Name: any, dtype: int64"
      ]
     },
     "execution_count": 20,
     "metadata": {},
     "output_type": "execute_result"
    }
   ],
   "source": [
    "data_table['any'].value_counts()"
   ]
  },
  {
   "cell_type": "markdown",
   "metadata": {},
   "source": [
    "#### observation: look correct!"
   ]
  },
  {
   "cell_type": "code",
   "execution_count": 21,
   "metadata": {},
   "outputs": [
    {
     "data": {
      "text/plain": [
       "0    674258\n",
       "Name: error, dtype: int64"
      ]
     },
     "execution_count": 21,
     "metadata": {},
     "output_type": "execute_result"
    }
   ],
   "source": [
    "data_table['error'].value_counts()"
   ]
  },
  {
   "cell_type": "code",
   "execution_count": 22,
   "metadata": {},
   "outputs": [],
   "source": [
    "#There is no error, we can drop the error column\n",
    "data_table = data_table.drop(columns = ['error'])"
   ]
  },
  {
   "cell_type": "markdown",
   "metadata": {},
   "source": [
    "### Let's look at some specific cases to further ensure the correctness of the table"
   ]
  },
  {
   "cell_type": "code",
   "execution_count": 23,
   "metadata": {},
   "outputs": [
    {
     "data": {
      "text/html": [
       "<div>\n",
       "<style scoped>\n",
       "    .dataframe tbody tr th:only-of-type {\n",
       "        vertical-align: middle;\n",
       "    }\n",
       "\n",
       "    .dataframe tbody tr th {\n",
       "        vertical-align: top;\n",
       "    }\n",
       "\n",
       "    .dataframe thead th {\n",
       "        text-align: right;\n",
       "    }\n",
       "</style>\n",
       "<table border=\"1\" class=\"dataframe\">\n",
       "  <thead>\n",
       "    <tr style=\"text-align: right;\">\n",
       "      <th></th>\n",
       "      <th>epidural</th>\n",
       "      <th>intraparenchymal</th>\n",
       "      <th>intraventricular</th>\n",
       "      <th>subarachnoid</th>\n",
       "      <th>subdural</th>\n",
       "      <th>any</th>\n",
       "    </tr>\n",
       "    <tr>\n",
       "      <th>case id</th>\n",
       "      <th></th>\n",
       "      <th></th>\n",
       "      <th></th>\n",
       "      <th></th>\n",
       "      <th></th>\n",
       "      <th></th>\n",
       "    </tr>\n",
       "  </thead>\n",
       "  <tbody>\n",
       "    <tr>\n",
       "      <td>0002081b6</td>\n",
       "      <td>0</td>\n",
       "      <td>1</td>\n",
       "      <td>0</td>\n",
       "      <td>0</td>\n",
       "      <td>0</td>\n",
       "      <td>1</td>\n",
       "    </tr>\n",
       "    <tr>\n",
       "      <td>00083d407</td>\n",
       "      <td>0</td>\n",
       "      <td>1</td>\n",
       "      <td>0</td>\n",
       "      <td>0</td>\n",
       "      <td>0</td>\n",
       "      <td>1</td>\n",
       "    </tr>\n",
       "    <tr>\n",
       "      <td>00094b19b</td>\n",
       "      <td>0</td>\n",
       "      <td>1</td>\n",
       "      <td>0</td>\n",
       "      <td>1</td>\n",
       "      <td>0</td>\n",
       "      <td>1</td>\n",
       "    </tr>\n",
       "    <tr>\n",
       "      <td>0009e5f5e</td>\n",
       "      <td>0</td>\n",
       "      <td>1</td>\n",
       "      <td>0</td>\n",
       "      <td>0</td>\n",
       "      <td>0</td>\n",
       "      <td>1</td>\n",
       "    </tr>\n",
       "    <tr>\n",
       "      <td>000d69988</td>\n",
       "      <td>0</td>\n",
       "      <td>1</td>\n",
       "      <td>0</td>\n",
       "      <td>1</td>\n",
       "      <td>0</td>\n",
       "      <td>1</td>\n",
       "    </tr>\n",
       "    <tr>\n",
       "      <td>000ec5e66</td>\n",
       "      <td>0</td>\n",
       "      <td>1</td>\n",
       "      <td>0</td>\n",
       "      <td>0</td>\n",
       "      <td>1</td>\n",
       "      <td>1</td>\n",
       "    </tr>\n",
       "    <tr>\n",
       "      <td>00101d495</td>\n",
       "      <td>0</td>\n",
       "      <td>1</td>\n",
       "      <td>0</td>\n",
       "      <td>0</td>\n",
       "      <td>0</td>\n",
       "      <td>1</td>\n",
       "    </tr>\n",
       "    <tr>\n",
       "      <td>001212532</td>\n",
       "      <td>0</td>\n",
       "      <td>1</td>\n",
       "      <td>1</td>\n",
       "      <td>0</td>\n",
       "      <td>0</td>\n",
       "      <td>1</td>\n",
       "    </tr>\n",
       "    <tr>\n",
       "      <td>0012b5d89</td>\n",
       "      <td>0</td>\n",
       "      <td>1</td>\n",
       "      <td>1</td>\n",
       "      <td>0</td>\n",
       "      <td>1</td>\n",
       "      <td>1</td>\n",
       "    </tr>\n",
       "    <tr>\n",
       "      <td>00130b866</td>\n",
       "      <td>0</td>\n",
       "      <td>1</td>\n",
       "      <td>0</td>\n",
       "      <td>0</td>\n",
       "      <td>0</td>\n",
       "      <td>1</td>\n",
       "    </tr>\n",
       "  </tbody>\n",
       "</table>\n",
       "</div>"
      ],
      "text/plain": [
       "           epidural  intraparenchymal  intraventricular  subarachnoid  \\\n",
       "case id                                                                 \n",
       "0002081b6         0                 1                 0             0   \n",
       "00083d407         0                 1                 0             0   \n",
       "00094b19b         0                 1                 0             1   \n",
       "0009e5f5e         0                 1                 0             0   \n",
       "000d69988         0                 1                 0             1   \n",
       "000ec5e66         0                 1                 0             0   \n",
       "00101d495         0                 1                 0             0   \n",
       "001212532         0                 1                 1             0   \n",
       "0012b5d89         0                 1                 1             0   \n",
       "00130b866         0                 1                 0             0   \n",
       "\n",
       "           subdural  any  \n",
       "case id                   \n",
       "0002081b6         0    1  \n",
       "00083d407         0    1  \n",
       "00094b19b         0    1  \n",
       "0009e5f5e         0    1  \n",
       "000d69988         0    1  \n",
       "000ec5e66         1    1  \n",
       "00101d495         0    1  \n",
       "001212532         0    1  \n",
       "0012b5d89         1    1  \n",
       "00130b866         0    1  "
      ]
     },
     "execution_count": 23,
     "metadata": {},
     "output_type": "execute_result"
    }
   ],
   "source": [
    "data_table[data_table['intraparenchymal']==1][0:10]"
   ]
  },
  {
   "cell_type": "code",
   "execution_count": 24,
   "metadata": {},
   "outputs": [
    {
     "data": {
      "text/html": [
       "<div>\n",
       "<style scoped>\n",
       "    .dataframe tbody tr th:only-of-type {\n",
       "        vertical-align: middle;\n",
       "    }\n",
       "\n",
       "    .dataframe tbody tr th {\n",
       "        vertical-align: top;\n",
       "    }\n",
       "\n",
       "    .dataframe thead th {\n",
       "        text-align: right;\n",
       "    }\n",
       "</style>\n",
       "<table border=\"1\" class=\"dataframe\">\n",
       "  <thead>\n",
       "    <tr style=\"text-align: right;\">\n",
       "      <th></th>\n",
       "      <th>ID</th>\n",
       "      <th>Label</th>\n",
       "    </tr>\n",
       "  </thead>\n",
       "  <tbody>\n",
       "    <tr>\n",
       "      <td>1423152</td>\n",
       "      <td>ID_000d69988_epidural</td>\n",
       "      <td>0</td>\n",
       "    </tr>\n",
       "    <tr>\n",
       "      <td>1423153</td>\n",
       "      <td>ID_000d69988_intraparenchymal</td>\n",
       "      <td>1</td>\n",
       "    </tr>\n",
       "    <tr>\n",
       "      <td>1423154</td>\n",
       "      <td>ID_000d69988_intraventricular</td>\n",
       "      <td>0</td>\n",
       "    </tr>\n",
       "    <tr>\n",
       "      <td>1423155</td>\n",
       "      <td>ID_000d69988_subarachnoid</td>\n",
       "      <td>1</td>\n",
       "    </tr>\n",
       "    <tr>\n",
       "      <td>1423156</td>\n",
       "      <td>ID_000d69988_subdural</td>\n",
       "      <td>0</td>\n",
       "    </tr>\n",
       "    <tr>\n",
       "      <td>1423157</td>\n",
       "      <td>ID_000d69988_any</td>\n",
       "      <td>1</td>\n",
       "    </tr>\n",
       "  </tbody>\n",
       "</table>\n",
       "</div>"
      ],
      "text/plain": [
       "                                    ID  Label\n",
       "1423152          ID_000d69988_epidural      0\n",
       "1423153  ID_000d69988_intraparenchymal      1\n",
       "1423154  ID_000d69988_intraventricular      0\n",
       "1423155      ID_000d69988_subarachnoid      1\n",
       "1423156          ID_000d69988_subdural      0\n",
       "1423157               ID_000d69988_any      1"
      ]
     },
     "execution_count": 24,
     "metadata": {},
     "output_type": "execute_result"
    }
   ],
   "source": [
    "raw_data_table[raw_data_table['ID'].apply(lambda x: \"000d69988\" in x)]"
   ]
  },
  {
   "cell_type": "code",
   "execution_count": 25,
   "metadata": {},
   "outputs": [
    {
     "data": {
      "text/html": [
       "<div>\n",
       "<style scoped>\n",
       "    .dataframe tbody tr th:only-of-type {\n",
       "        vertical-align: middle;\n",
       "    }\n",
       "\n",
       "    .dataframe tbody tr th {\n",
       "        vertical-align: top;\n",
       "    }\n",
       "\n",
       "    .dataframe thead th {\n",
       "        text-align: right;\n",
       "    }\n",
       "</style>\n",
       "<table border=\"1\" class=\"dataframe\">\n",
       "  <thead>\n",
       "    <tr style=\"text-align: right;\">\n",
       "      <th></th>\n",
       "      <th>ID</th>\n",
       "      <th>Label</th>\n",
       "    </tr>\n",
       "  </thead>\n",
       "  <tbody>\n",
       "    <tr>\n",
       "      <td>1611144</td>\n",
       "      <td>ID_0012b5d89_epidural</td>\n",
       "      <td>0</td>\n",
       "    </tr>\n",
       "    <tr>\n",
       "      <td>1611145</td>\n",
       "      <td>ID_0012b5d89_intraparenchymal</td>\n",
       "      <td>1</td>\n",
       "    </tr>\n",
       "    <tr>\n",
       "      <td>1611146</td>\n",
       "      <td>ID_0012b5d89_intraventricular</td>\n",
       "      <td>1</td>\n",
       "    </tr>\n",
       "    <tr>\n",
       "      <td>1611147</td>\n",
       "      <td>ID_0012b5d89_subarachnoid</td>\n",
       "      <td>0</td>\n",
       "    </tr>\n",
       "    <tr>\n",
       "      <td>1611148</td>\n",
       "      <td>ID_0012b5d89_subdural</td>\n",
       "      <td>1</td>\n",
       "    </tr>\n",
       "    <tr>\n",
       "      <td>1611149</td>\n",
       "      <td>ID_0012b5d89_any</td>\n",
       "      <td>1</td>\n",
       "    </tr>\n",
       "  </tbody>\n",
       "</table>\n",
       "</div>"
      ],
      "text/plain": [
       "                                    ID  Label\n",
       "1611144          ID_0012b5d89_epidural      0\n",
       "1611145  ID_0012b5d89_intraparenchymal      1\n",
       "1611146  ID_0012b5d89_intraventricular      1\n",
       "1611147      ID_0012b5d89_subarachnoid      0\n",
       "1611148          ID_0012b5d89_subdural      1\n",
       "1611149               ID_0012b5d89_any      1"
      ]
     },
     "execution_count": 25,
     "metadata": {},
     "output_type": "execute_result"
    }
   ],
   "source": [
    "raw_data_table[raw_data_table['ID'].apply(lambda x: \"0012b5d89\" in x)]"
   ]
  },
  {
   "cell_type": "markdown",
   "metadata": {},
   "source": [
    "#### Observation: looks like the raw data table was parsed correctly"
   ]
  },
  {
   "cell_type": "markdown",
   "metadata": {},
   "source": [
    "# 4. Take a look at the data distribution"
   ]
  },
  {
   "cell_type": "code",
   "execution_count": 26,
   "metadata": {},
   "outputs": [],
   "source": [
    "diagnosis = ['epidural', 'intraparenchymal', 'intraventricular','subarachnoid', 'subdural','any']"
   ]
  },
  {
   "cell_type": "code",
   "execution_count": 27,
   "metadata": {},
   "outputs": [],
   "source": [
    "diagnosis_count = [data_table[x].sum() for x in diagnosis]"
   ]
  },
  {
   "cell_type": "code",
   "execution_count": 28,
   "metadata": {},
   "outputs": [
    {
     "data": {
      "text/plain": [
       "Text(0.5, 1.0, 'Number of images vs Diagnosis')"
      ]
     },
     "execution_count": 28,
     "metadata": {},
     "output_type": "execute_result"
    },
    {
     "data": {
      "image/png": "[encoded data removed]",
      "text/plain": [
       "<Figure size 864x576 with 1 Axes>"
      ]
     },
     "metadata": {},
     "output_type": "display_data"
    }
   ],
   "source": [
    "fig, ax = plt.subplots(figsize=(12, 8))\n",
    "\n",
    "ax.bar(diagnosis, diagnosis_count)\n",
    "ax.set_title('Number of images vs Diagnosis')"
   ]
  },
  {
   "cell_type": "markdown",
   "metadata": {},
   "source": [
    "#### Observation: some images are assigned with multiple diagnoses"
   ]
  },
  {
   "cell_type": "markdown",
   "metadata": {},
   "source": [
    "## Take a look at the correlations among the diagnoses"
   ]
  },
  {
   "cell_type": "code",
   "execution_count": 29,
   "metadata": {},
   "outputs": [
    {
     "name": "stdout",
     "output_type": "stream",
     "text": [
      "Correlation between epidural and intraparenchymal\n",
      "[[1.         0.04578504]\n",
      " [0.04578504 1.        ]]\n",
      "Correlation between epidural and intraventricular\n",
      "[[1.       0.014947]\n",
      " [0.014947 1.      ]]\n",
      "Correlation between epidural and subarachnoid\n",
      "[[1.        0.0384301]\n",
      " [0.0384301 1.       ]]\n",
      "Correlation between epidural and subdural\n",
      "[[1.         0.04501182]\n",
      " [0.04501182 1.        ]]\n",
      "Correlation between intraparenchymal and intraventricular\n",
      "[[1.         0.31767652]\n",
      " [0.31767652 1.        ]]\n",
      "Correlation between intraparenchymal and subarachnoid\n",
      "[[1.        0.2198587]\n",
      " [0.2198587 1.       ]]\n",
      "Correlation between intraparenchymal and subdural\n",
      "[[1.         0.12777751]\n",
      " [0.12777751 1.        ]]\n",
      "Correlation between intraventricular and subarachnoid\n",
      "[[1.        0.2115512]\n",
      " [0.2115512 1.       ]]\n",
      "Correlation between intraventricular and subdural\n",
      "[[1.         0.06308495]\n",
      " [0.06308495 1.        ]]\n",
      "Correlation between subarachnoid and subdural\n",
      "[[1.         0.18568078]\n",
      " [0.18568078 1.        ]]\n"
     ]
    }
   ],
   "source": [
    "for i, diagnosis_x in enumerate(diagnosis[0:4]):\n",
    "    for diagnosis_y in diagnosis[i+1:5]:\n",
    "    \n",
    "        corr = np.corrcoef(data_table[diagnosis_x], data_table[diagnosis_y])\n",
    "        print('Correlation between '+diagnosis_x +\" and \"+diagnosis_y)\n",
    "        print(corr) \n",
    "        "
   ]
  },
  {
   "cell_type": "markdown",
   "metadata": {},
   "source": [
    "#### Observations:\n",
    "#### Epidural has insignifcant correlations with other types.\n",
    "#### Subdural also has relatively small correlations with other types.\n",
    "#### Intraparenchymal and intraventricular have the strongest correlation with each other\n",
    "#### Both intraparenchymal and intraventricular have a moderate relation with subarachnoid"
   ]
  },
  {
   "cell_type": "markdown",
   "metadata": {},
   "source": [
    "## Take a look at the data with multiple diagnoses"
   ]
  },
  {
   "cell_type": "code",
   "execution_count": 30,
   "metadata": {},
   "outputs": [],
   "source": [
    "diagnosis = ['epidural', 'intraparenchymal', 'intraventricular','subarachnoid', 'subdural']"
   ]
  },
  {
   "cell_type": "code",
   "execution_count": 31,
   "metadata": {},
   "outputs": [],
   "source": [
    "def count_labels(df):\n",
    "    df['count'] = df[diagnosis].sum()\n",
    "    return df"
   ]
  },
  {
   "cell_type": "code",
   "execution_count": 32,
   "metadata": {
    "scrolled": false
   },
   "outputs": [],
   "source": [
    "data_table=data_table.apply(lambda x: count_labels(x), axis=1)"
   ]
  },
  {
   "cell_type": "code",
   "execution_count": 33,
   "metadata": {},
   "outputs": [
    {
     "data": {
      "text/plain": [
       "0    577155\n",
       "1     67969\n",
       "2     22587\n",
       "3      5642\n",
       "4       885\n",
       "5        20\n",
       "Name: count, dtype: int64"
      ]
     },
     "execution_count": 33,
     "metadata": {},
     "output_type": "execute_result"
    }
   ],
   "source": [
    "data_table['count'].value_counts()"
   ]
  },
  {
   "cell_type": "markdown",
   "metadata": {},
   "source": [
    "#### Observation: most images are assessed as normal/healthy and has no types of hemorrhage assigned to it. Among the images that are assigned with a hemorrhage, the majority has only one type, and a significant portion has two types"
   ]
  },
  {
   "cell_type": "code",
   "execution_count": 34,
   "metadata": {},
   "outputs": [
    {
     "data": {
      "text/plain": [
       "0"
      ]
     },
     "execution_count": 34,
     "metadata": {},
     "output_type": "execute_result"
    }
   ],
   "source": [
    "#Check if any image has one or more types of hemorrhage but 'any' is marked as zero\n",
    "has_diagnosis = data_table['count']>0\n",
    "any_diagnosis = data_table['any'] == 1\n",
    "\n",
    "len(data_table[has_diagnosis & ~any_diagnosis])"
   ]
  },
  {
   "cell_type": "code",
   "execution_count": 35,
   "metadata": {},
   "outputs": [
    {
     "data": {
      "text/plain": [
       "0"
      ]
     },
     "execution_count": 35,
     "metadata": {},
     "output_type": "execute_result"
    }
   ],
   "source": [
    "#Check if any image has no hemorrhage but 'any' is marked as one\n",
    "has_diagnosis = data_table['count'] == 0\n",
    "any_diagnosis = data_table['any'] == 1\n",
    "\n",
    "len(data_table[has_diagnosis & any_diagnosis])"
   ]
  },
  {
   "cell_type": "markdown",
   "metadata": {},
   "source": [
    "#### Observation: the column \"any\" correctly indicates if the image is identified with one or more types of hemorrhage"
   ]
  },
  {
   "cell_type": "code",
   "execution_count": 36,
   "metadata": {},
   "outputs": [],
   "source": [
    "#Save the data table into a file\n",
    "data_table.to_pickle('rsna_data_table.pkl') "
   ]
  }
 ],
 "metadata": {
  "kernelspec": {
   "display_name": "Python 3",
   "language": "python",
   "name": "python3"
  },
  "language_info": {
   "codemirror_mode": {
    "name": "ipython",
    "version": 3
   },
   "file_extension": ".py",
   "mimetype": "text/x-python",
   "name": "python",
   "nbconvert_exporter": "python",
   "pygments_lexer": "ipython3",
   "version": "3.6.8"
  }
 },
 "nbformat": 4,
 "nbformat_minor": 1
}
